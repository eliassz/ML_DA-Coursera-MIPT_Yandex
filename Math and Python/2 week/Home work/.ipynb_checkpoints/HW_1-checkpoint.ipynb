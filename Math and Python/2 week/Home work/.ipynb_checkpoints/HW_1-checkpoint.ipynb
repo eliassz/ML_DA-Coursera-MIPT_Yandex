{
 "cells": [
  {
   "cell_type": "markdown",
   "metadata": {},
   "source": [
    "# Задание по программированию: \n",
    "## Линейная алгебра: сходство текстов и аппроксимация функций"
   ]
  },
  {
   "cell_type": "markdown",
   "metadata": {},
   "source": [
    "## Задача 1"
   ]
  },
  {
   "cell_type": "code",
   "execution_count": 28,
   "metadata": {},
   "outputs": [],
   "source": [
    "import re\n",
    "import numpy as np \n",
    "import pandas as pd\n",
    "from scipy.spatial import distance"
   ]
  },
  {
   "cell_type": "code",
   "execution_count": 2,
   "metadata": {},
   "outputs": [],
   "source": [
    "file = open('sentences.txt')\n",
    "sentences = file.readlines()"
   ]
  },
  {
   "cell_type": "code",
   "execution_count": 3,
   "metadata": {},
   "outputs": [
    {
     "data": {
      "text/plain": [
       "['In comparison to dogs, cats have not undergone major changes during the domestication process.\\n',\n",
       " 'As cat simply catenates streams of bytes, it can be also used to concatenate binary files, where it will just concatenate sequence of bytes.\\n',\n",
       " 'A common interactive use of cat for a single file is to output the content of a file to standard output.\\n',\n",
       " 'Cats can hear sounds too faint or too high in frequency for human ears, such as those made by mice and other small animals.\\n',\n",
       " 'In one, people deliberately tamed cats in a process of artificial selection, as they were useful predators of vermin.\\n']"
      ]
     },
     "execution_count": 3,
     "metadata": {},
     "output_type": "execute_result"
    }
   ],
   "source": [
    "sentences[:5]"
   ]
  },
  {
   "cell_type": "code",
   "execution_count": 4,
   "metadata": {},
   "outputs": [],
   "source": [
    "tokens = list(map(lambda x:  x.lower().strip(), sentences))"
   ]
  },
  {
   "cell_type": "code",
   "execution_count": 5,
   "metadata": {},
   "outputs": [],
   "source": [
    "def Tokenization(x):\n",
    "    tokenized_x = []\n",
    "    tokens = []\n",
    "    for ix in x:\n",
    "        ix = re.split('[^a-z]', ix.lower().strip())\n",
    "        ix = [elem for elem in ix if elem != '']\n",
    "        tokenized_x.append(ix)\n",
    "        for elem in ix:\n",
    "            tokens.append(elem)\n",
    "    return tokenized_x, tokens"
   ]
  },
  {
   "cell_type": "code",
   "execution_count": 6,
   "metadata": {},
   "outputs": [],
   "source": [
    "tokenized_sentences, tokens = Tokenization(sentences)"
   ]
  },
  {
   "cell_type": "code",
   "execution_count": 7,
   "metadata": {},
   "outputs": [],
   "source": [
    "def Making_dict(x):\n",
    "    \"\"\"Return dict with set values and keys as indexes\"\"\"\n",
    "    b = set(x)\n",
    "    d = {}\n",
    "    i = 0\n",
    "    for elem in b:\n",
    "        d[i] = elem\n",
    "        i+=1\n",
    "    return  d"
   ]
  },
  {
   "cell_type": "code",
   "execution_count": 8,
   "metadata": {},
   "outputs": [],
   "source": [
    "new_dict = Making_dict(tokens)\n",
    "num_sen = len(sentences)\n",
    "num_dict = len(new_dict)"
   ]
  },
  {
   "cell_type": "code",
   "execution_count": 9,
   "metadata": {},
   "outputs": [],
   "source": [
    "matrix = np.zeros((num_sen,num_dict))"
   ]
  },
  {
   "cell_type": "code",
   "execution_count": 10,
   "metadata": {},
   "outputs": [],
   "source": [
    "#filling matrix\n",
    "for i in range(num_sen):\n",
    "    for k, v in new_dict.items():\n",
    "        matrix[i][int(k)] = tokenized_sentences[i].count(v)        "
   ]
  },
  {
   "cell_type": "code",
   "execution_count": 12,
   "metadata": {},
   "outputs": [],
   "source": [
    "dists_list = np.zeros((num_sen,))"
   ]
  },
  {
   "cell_type": "code",
   "execution_count": 13,
   "metadata": {},
   "outputs": [],
   "source": [
    "for i in range(num_sen):\n",
    "    dists_list[i] = distance.cosine(matrix[0], matrix[i])"
   ]
  },
  {
   "cell_type": "code",
   "execution_count": 23,
   "metadata": {},
   "outputs": [
    {
     "data": {
      "text/plain": [
       "array([0.        , 0.95275444, 0.86447381, 0.89517152, 0.77708871,\n",
       "       0.94023857, 0.73273876, 0.92587507, 0.88427249, 0.90550888,\n",
       "       0.83281654, 0.88047714, 0.83964325, 0.87035926, 0.87401184,\n",
       "       0.94427218, 0.84063619, 0.9566445 , 0.94427218, 0.88854436,\n",
       "       0.84275727, 0.82503645])"
      ]
     },
     "execution_count": 23,
     "metadata": {},
     "output_type": "execute_result"
    }
   ],
   "source": [
    "dists_list"
   ]
  },
  {
   "cell_type": "code",
   "execution_count": 41,
   "metadata": {},
   "outputs": [],
   "source": [
    "d = {'distance': dists_list, 'sentences': sentences}\n",
    "df = pd.DataFrame(data=d)"
   ]
  },
  {
   "cell_type": "code",
   "execution_count": 45,
   "metadata": {},
   "outputs": [
    {
     "data": {
      "text/html": [
       "<div>\n",
       "<style scoped>\n",
       "    .dataframe tbody tr th:only-of-type {\n",
       "        vertical-align: middle;\n",
       "    }\n",
       "\n",
       "    .dataframe tbody tr th {\n",
       "        vertical-align: top;\n",
       "    }\n",
       "\n",
       "    .dataframe thead th {\n",
       "        text-align: right;\n",
       "    }\n",
       "</style>\n",
       "<table border=\"1\" class=\"dataframe\">\n",
       "  <thead>\n",
       "    <tr style=\"text-align: right;\">\n",
       "      <th></th>\n",
       "      <th>distance</th>\n",
       "      <th>sentences</th>\n",
       "    </tr>\n",
       "  </thead>\n",
       "  <tbody>\n",
       "    <tr>\n",
       "      <th>0</th>\n",
       "      <td>0.000000</td>\n",
       "      <td>In comparison to dogs, cats have not undergone...</td>\n",
       "    </tr>\n",
       "    <tr>\n",
       "      <th>1</th>\n",
       "      <td>0.952754</td>\n",
       "      <td>As cat simply catenates streams of bytes, it c...</td>\n",
       "    </tr>\n",
       "    <tr>\n",
       "      <th>2</th>\n",
       "      <td>0.864474</td>\n",
       "      <td>A common interactive use of cat for a single f...</td>\n",
       "    </tr>\n",
       "    <tr>\n",
       "      <th>3</th>\n",
       "      <td>0.895172</td>\n",
       "      <td>Cats can hear sounds too faint or too high in ...</td>\n",
       "    </tr>\n",
       "    <tr>\n",
       "      <th>4</th>\n",
       "      <td>0.777089</td>\n",
       "      <td>In one, people deliberately tamed cats in a pr...</td>\n",
       "    </tr>\n",
       "  </tbody>\n",
       "</table>\n",
       "</div>"
      ],
      "text/plain": [
       "   distance                                          sentences\n",
       "0  0.000000  In comparison to dogs, cats have not undergone...\n",
       "1  0.952754  As cat simply catenates streams of bytes, it c...\n",
       "2  0.864474  A common interactive use of cat for a single f...\n",
       "3  0.895172  Cats can hear sounds too faint or too high in ...\n",
       "4  0.777089  In one, people deliberately tamed cats in a pr..."
      ]
     },
     "execution_count": 45,
     "metadata": {},
     "output_type": "execute_result"
    }
   ],
   "source": [
    "df.head()"
   ]
  },
  {
   "cell_type": "code",
   "execution_count": 52,
   "metadata": {},
   "outputs": [
    {
     "data": {
      "text/html": [
       "<div>\n",
       "<style scoped>\n",
       "    .dataframe tbody tr th:only-of-type {\n",
       "        vertical-align: middle;\n",
       "    }\n",
       "\n",
       "    .dataframe tbody tr th {\n",
       "        vertical-align: top;\n",
       "    }\n",
       "\n",
       "    .dataframe thead th {\n",
       "        text-align: right;\n",
       "    }\n",
       "</style>\n",
       "<table border=\"1\" class=\"dataframe\">\n",
       "  <thead>\n",
       "    <tr style=\"text-align: right;\">\n",
       "      <th></th>\n",
       "      <th>distance</th>\n",
       "      <th>sentences</th>\n",
       "    </tr>\n",
       "  </thead>\n",
       "  <tbody>\n",
       "    <tr>\n",
       "      <th>0</th>\n",
       "      <td>0.000000</td>\n",
       "      <td>In comparison to dogs, cats have not undergone...</td>\n",
       "    </tr>\n",
       "    <tr>\n",
       "      <th>6</th>\n",
       "      <td>0.732739</td>\n",
       "      <td>Domestic cats are similar in size to the other...</td>\n",
       "    </tr>\n",
       "    <tr>\n",
       "      <th>4</th>\n",
       "      <td>0.777089</td>\n",
       "      <td>In one, people deliberately tamed cats in a pr...</td>\n",
       "    </tr>\n",
       "    <tr>\n",
       "      <th>21</th>\n",
       "      <td>0.825036</td>\n",
       "      <td>The fifth major update to Mac OS X, Leopard, c...</td>\n",
       "    </tr>\n",
       "    <tr>\n",
       "      <th>10</th>\n",
       "      <td>0.832817</td>\n",
       "      <td>Cat command is one of the basic commands that ...</td>\n",
       "    </tr>\n",
       "    <tr>\n",
       "      <th>12</th>\n",
       "      <td>0.839643</td>\n",
       "      <td>When you type simply cat command without any a...</td>\n",
       "    </tr>\n",
       "    <tr>\n",
       "      <th>16</th>\n",
       "      <td>0.840636</td>\n",
       "      <td>Since Apple moved to using Intel processors in...</td>\n",
       "    </tr>\n",
       "    <tr>\n",
       "      <th>20</th>\n",
       "      <td>0.842757</td>\n",
       "      <td>Mac OS X Mountain Lion installs in place, so y...</td>\n",
       "    </tr>\n",
       "    <tr>\n",
       "      <th>2</th>\n",
       "      <td>0.864474</td>\n",
       "      <td>A common interactive use of cat for a single f...</td>\n",
       "    </tr>\n",
       "    <tr>\n",
       "      <th>13</th>\n",
       "      <td>0.870359</td>\n",
       "      <td>Leopard was released on October 26, 2007 as th...</td>\n",
       "    </tr>\n",
       "    <tr>\n",
       "      <th>14</th>\n",
       "      <td>0.874012</td>\n",
       "      <td>According to Apple, Leopard contains over 300 ...</td>\n",
       "    </tr>\n",
       "    <tr>\n",
       "      <th>11</th>\n",
       "      <td>0.880477</td>\n",
       "      <td>Using cat command, the lines received from std...</td>\n",
       "    </tr>\n",
       "    <tr>\n",
       "      <th>8</th>\n",
       "      <td>0.884272</td>\n",
       "      <td>cat with one named file is safer where human e...</td>\n",
       "    </tr>\n",
       "    <tr>\n",
       "      <th>19</th>\n",
       "      <td>0.888544</td>\n",
       "      <td>The Mountain Lion release marks the second tim...</td>\n",
       "    </tr>\n",
       "    <tr>\n",
       "      <th>3</th>\n",
       "      <td>0.895172</td>\n",
       "      <td>Cats can hear sounds too faint or too high in ...</td>\n",
       "    </tr>\n",
       "    <tr>\n",
       "      <th>9</th>\n",
       "      <td>0.905509</td>\n",
       "      <td>In terms of legibility, a sequence of commands...</td>\n",
       "    </tr>\n",
       "    <tr>\n",
       "      <th>7</th>\n",
       "      <td>0.925875</td>\n",
       "      <td>However, if the output is piped or redirected,...</td>\n",
       "    </tr>\n",
       "    <tr>\n",
       "      <th>5</th>\n",
       "      <td>0.940239</td>\n",
       "      <td>The domesticated cat and its closest wild ance...</td>\n",
       "    </tr>\n",
       "    <tr>\n",
       "      <th>15</th>\n",
       "      <td>0.944272</td>\n",
       "      <td>As of Mid 2010, some Apple computers have firm...</td>\n",
       "    </tr>\n",
       "    <tr>\n",
       "      <th>18</th>\n",
       "      <td>0.944272</td>\n",
       "      <td>Apple has released a small patch for the three...</td>\n",
       "    </tr>\n",
       "    <tr>\n",
       "      <th>1</th>\n",
       "      <td>0.952754</td>\n",
       "      <td>As cat simply catenates streams of bytes, it c...</td>\n",
       "    </tr>\n",
       "    <tr>\n",
       "      <th>17</th>\n",
       "      <td>0.956645</td>\n",
       "      <td>OS X Mountain Lion was released on July 25, 20...</td>\n",
       "    </tr>\n",
       "  </tbody>\n",
       "</table>\n",
       "</div>"
      ],
      "text/plain": [
       "    distance                                          sentences\n",
       "0   0.000000  In comparison to dogs, cats have not undergone...\n",
       "6   0.732739  Domestic cats are similar in size to the other...\n",
       "4   0.777089  In one, people deliberately tamed cats in a pr...\n",
       "21  0.825036  The fifth major update to Mac OS X, Leopard, c...\n",
       "10  0.832817  Cat command is one of the basic commands that ...\n",
       "12  0.839643  When you type simply cat command without any a...\n",
       "16  0.840636  Since Apple moved to using Intel processors in...\n",
       "20  0.842757  Mac OS X Mountain Lion installs in place, so y...\n",
       "2   0.864474  A common interactive use of cat for a single f...\n",
       "13  0.870359  Leopard was released on October 26, 2007 as th...\n",
       "14  0.874012  According to Apple, Leopard contains over 300 ...\n",
       "11  0.880477  Using cat command, the lines received from std...\n",
       "8   0.884272  cat with one named file is safer where human e...\n",
       "19  0.888544  The Mountain Lion release marks the second tim...\n",
       "3   0.895172  Cats can hear sounds too faint or too high in ...\n",
       "9   0.905509  In terms of legibility, a sequence of commands...\n",
       "7   0.925875  However, if the output is piped or redirected,...\n",
       "5   0.940239  The domesticated cat and its closest wild ance...\n",
       "15  0.944272  As of Mid 2010, some Apple computers have firm...\n",
       "18  0.944272  Apple has released a small patch for the three...\n",
       "1   0.952754  As cat simply catenates streams of bytes, it c...\n",
       "17  0.956645  OS X Mountain Lion was released on July 25, 20..."
      ]
     },
     "execution_count": 52,
     "metadata": {},
     "output_type": "execute_result"
    }
   ],
   "source": [
    "df.sort_values('distance')"
   ]
  },
  {
   "cell_type": "markdown",
   "metadata": {},
   "source": [
    "## 2 задача"
   ]
  },
  {
   "cell_type": "code",
   "execution_count": null,
   "metadata": {},
   "outputs": [],
   "source": [
    "%matplotlib inline\n",
    "from matplotlib import pylab as plt"
   ]
  },
  {
   "cell_type": "code",
   "execution_count": null,
   "metadata": {},
   "outputs": [],
   "source": [
    "def f(x):\n",
    "    return np.sin(x / 5) * np.exp(x / 10) + 5 * np.exp(-x / 2)  "
   ]
  },
  {
   "cell_type": "code",
   "execution_count": null,
   "metadata": {},
   "outputs": [],
   "source": [
    "x_sol = np.linspace(1, 15)\n",
    "y_sol = f(x)"
   ]
  },
  {
   "cell_type": "code",
   "execution_count": null,
   "metadata": {},
   "outputs": [],
   "source": [
    "plt.plot(x, y)\n",
    "plt.show()"
   ]
  },
  {
   "cell_type": "markdown",
   "metadata": {},
   "source": [
    "Решение с помощью линейных уравнений"
   ]
  },
  {
   "cell_type": "code",
   "execution_count": null,
   "metadata": {},
   "outputs": [],
   "source": [
    "x_1 = 1\n",
    "x_2 = 15"
   ]
  },
  {
   "cell_type": "code",
   "execution_count": null,
   "metadata": {},
   "outputs": [],
   "source": [
    "A = np.array([[1,x_1],[1, x_2]])\n",
    "b = np.array([f(x_1),f(x_2)])\n",
    "w = np.linalg.solve(A, b)"
   ]
  },
  {
   "cell_type": "code",
   "execution_count": null,
   "metadata": {},
   "outputs": [],
   "source": [
    "A"
   ]
  },
  {
   "cell_type": "code",
   "execution_count": null,
   "metadata": {},
   "outputs": [],
   "source": [
    "b"
   ]
  },
  {
   "cell_type": "code",
   "execution_count": null,
   "metadata": {},
   "outputs": [],
   "source": [
    "w"
   ]
  },
  {
   "cell_type": "code",
   "execution_count": null,
   "metadata": {},
   "outputs": [],
   "source": [
    "def lin_aprox(A,w):\n",
    "    return np.dot(A,w)"
   ]
  },
  {
   "cell_type": "code",
   "execution_count": null,
   "metadata": {},
   "outputs": [],
   "source": [
    "y_lin = lin_aprox(A,w)"
   ]
  },
  {
   "cell_type": "code",
   "execution_count": null,
   "metadata": {
    "scrolled": true
   },
   "outputs": [],
   "source": [
    "plt.plot(x_sol,y_sol)\n",
    "plt.plot([x_1,x_2],y_lin)\n",
    "plt.show()"
   ]
  },
  {
   "cell_type": "markdown",
   "metadata": {},
   "source": [
    "Решение с помощью квадратичных уравнений"
   ]
  },
  {
   "cell_type": "code",
   "execution_count": null,
   "metadata": {},
   "outputs": [],
   "source": [
    "x_1 = 1\n",
    "x_2 = 8\n",
    "x_3 = 15"
   ]
  },
  {
   "cell_type": "code",
   "execution_count": null,
   "metadata": {},
   "outputs": [],
   "source": [
    "A = np.array([[1,x_1,x_1**2],[1,x_2,x_2**2], [1,x_3,x_3**2]])\n",
    "b = np.array([f(x_1),f(x_2),f(x_3)])\n",
    "w = np.linalg.solve(A, b)"
   ]
  },
  {
   "cell_type": "code",
   "execution_count": null,
   "metadata": {},
   "outputs": [],
   "source": [
    "A "
   ]
  },
  {
   "cell_type": "code",
   "execution_count": null,
   "metadata": {},
   "outputs": [],
   "source": [
    "b"
   ]
  },
  {
   "cell_type": "code",
   "execution_count": null,
   "metadata": {},
   "outputs": [],
   "source": [
    "w"
   ]
  },
  {
   "cell_type": "code",
   "execution_count": null,
   "metadata": {},
   "outputs": [],
   "source": [
    "def sq_aprox(x, w):\n",
    "    return w[0] +w[1] * x + w[2] * (x ** 2)"
   ]
  },
  {
   "cell_type": "code",
   "execution_count": null,
   "metadata": {},
   "outputs": [],
   "source": [
    "plt.plot(x_sol,y_sol)\n",
    "plt.plot(x_sol, sq_aprox(x_sol, w))\n",
    "plt.show()"
   ]
  },
  {
   "cell_type": "markdown",
   "metadata": {},
   "source": [
    "Решение с помощью кубических уравнений"
   ]
  },
  {
   "cell_type": "code",
   "execution_count": null,
   "metadata": {},
   "outputs": [],
   "source": [
    "x = np.array([1,4,10,15])"
   ]
  },
  {
   "cell_type": "code",
   "execution_count": null,
   "metadata": {},
   "outputs": [],
   "source": [
    "A = np.array([[1,x[0],x[0]**2,x[0]**3],[1,x[1],x[1]**2,x[1]**3], [1,x[2],x[2]**2,x[2]**3],[1,x[3],x[3]**2,x[3]**3]])\n",
    "b = np.array([f(x[0]), f(x[1]), f(x[2]), f(x[3])])\n",
    "w = np.linalg.solve(A, b)\n"
   ]
  },
  {
   "cell_type": "code",
   "execution_count": null,
   "metadata": {},
   "outputs": [],
   "source": [
    "w"
   ]
  },
  {
   "cell_type": "code",
   "execution_count": null,
   "metadata": {},
   "outputs": [],
   "source": [
    "np.round(w,2)"
   ]
  },
  {
   "cell_type": "code",
   "execution_count": null,
   "metadata": {},
   "outputs": [],
   "source": [
    "def cube_aprox(x, w):\n",
    "    return w[0] +w[1] * x + w[2] * (x ** 2)+ w[3] * (x ** 3)"
   ]
  },
  {
   "cell_type": "code",
   "execution_count": null,
   "metadata": {},
   "outputs": [],
   "source": [
    "plt.plot(x_sol,y_sol)\n",
    "plt.plot(x_sol, cube_aprox(x_sol, w))\n",
    "plt.show()"
   ]
  }
 ],
 "metadata": {
  "kernelspec": {
   "display_name": "Python 3",
   "language": "python",
   "name": "python3"
  },
  "language_info": {
   "codemirror_mode": {
    "name": "ipython",
    "version": 3
   },
   "file_extension": ".py",
   "mimetype": "text/x-python",
   "name": "python",
   "nbconvert_exporter": "python",
   "pygments_lexer": "ipython3",
   "version": "3.7.6"
  }
 },
 "nbformat": 4,
 "nbformat_minor": 4
}
